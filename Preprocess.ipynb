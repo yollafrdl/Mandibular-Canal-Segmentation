{
 "cells": [
  {
   "cell_type": "code",
   "execution_count": null,
   "metadata": {},
   "outputs": [],
   "source": [
    "from PIL import Image\n",
    "from numpy import asarray\n",
    "import cv2\n",
    "import os\n",
    "import glob\n",
    "import matplotlib.pyplot as plt\n",
    "import numpy as np\n",
    "from sklearn.model_selection import train_test_split"
   ]
  },
  {
   "cell_type": "code",
   "execution_count": null,
   "metadata": {},
   "outputs": [],
   "source": [
    "images = []\n",
    "for fname in glob.glob('Data 100/Augmentation/Images/*', recursive = False): #Sesuaikan folder\n",
    "    img = Image.open(fname)\n",
    "    img = img.convert('L')\n",
    "    img = img.resize((256,192))\n",
    "    pixel = asarray(img)\n",
    "    pixel = pixel / 255\n",
    "    images.append(pixel)"
   ]
  },
  {
   "cell_type": "code",
   "execution_count": null,
   "metadata": {},
   "outputs": [],
   "source": [
    "region = []\n",
    "for fname in glob.glob('Data 100/Augmentation/Region/*', recursive = False): #Sesuaikan folder\n",
    "    gt = Image.open(fname)\n",
    "    gt = gt.convert('L')\n",
    "    gt = gt.resize((256,192))\n",
    "    gt_pixel = asarray(gt).copy()\n",
    "    gt_pixel[gt_pixel < 70] = 0\n",
    "    gt_pixel[gt_pixel >= 70] = 1\n",
    "    region.append(gt_pixel)"
   ]
  },
  {
   "cell_type": "code",
   "execution_count": null,
   "metadata": {},
   "outputs": [],
   "source": [
    "boundary = []\n",
    "for fname in glob.glob('Data 100/Augmentation/Boundary/*', recursive = False): #Sesuaikan folder\n",
    "    kernel = np.ones((1,1),np.uint8)\n",
    "    gtb = Image.open(fname)\n",
    "    gtb = gtb.convert('L')\n",
    "    gtb = gtb.resize((256,192))\n",
    "    gtb_pixel = asarray(gtb).copy()\n",
    "    gtb_pixel[gtb_pixel < 20] = 0\n",
    "    gtb_pixel[gtb_pixel >= 20] = 1\n",
    "    boundary.append(gtb_pixel)"
   ]
  },
  {
   "cell_type": "code",
   "execution_count": null,
   "metadata": {},
   "outputs": [],
   "source": [
    "x_train, x_test, r_train, r_test, b_train, b_test = train_test_split(i, r, b, test_size = 0.2, random_state = 24)"
   ]
  },
  {
   "cell_type": "code",
   "execution_count": null,
   "metadata": {},
   "outputs": [],
   "source": [
    "np.save('Output/images 200.npy', images)\n",
    "np.save('Output/region 200.npy', region)\n",
    "np.save('Output/boundary 200.npy', boundary)\n",
    "np.save('Output/200_train_image.npy', x_train)\n",
    "np.save('Output/200_train_region.npy', r_train)\n",
    "np.save('Output/200_train_boundary.npy', b_train)\n",
    "np.save('Output/200_test_image.npy', x_test)\n",
    "np.save('Output/200_test_region.npy', r_test)\n",
    "np.save('Output/200_test_boundary.npy', b_test)"
   ]
  }
 ],
 "metadata": {
  "kernelspec": {
   "display_name": "Python 3",
   "language": "python",
   "name": "python3"
  },
  "language_info": {
   "codemirror_mode": {
    "name": "ipython",
    "version": 3
   },
   "file_extension": ".py",
   "mimetype": "text/x-python",
   "name": "python",
   "nbconvert_exporter": "python",
   "pygments_lexer": "ipython3",
   "version": "3.6.5"
  }
 },
 "nbformat": 4,
 "nbformat_minor": 2
}
