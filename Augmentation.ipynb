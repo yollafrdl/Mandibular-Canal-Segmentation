{
 "cells": [
  {
   "cell_type": "code",
   "execution_count": null,
   "metadata": {},
   "outputs": [],
   "source": [
    "import cv2\n",
    "import numpy as np\n",
    "import glob\n",
    "import os"
   ]
  },
  {
   "cell_type": "code",
   "execution_count": null,
   "metadata": {},
   "outputs": [],
   "source": [
    "path = \"Data 100/Augmentation/Images/\"\n",
    "dirs = os.listdir(path)\n",
    "i = 0\n",
    "for file in glob.glob('Data 100/Augmentation/Images/*', recursive=False):\n",
    "    img = cv2.imread(file)\n",
    "    img = cv2.flip(img,1)\n",
    "    filename = \"h {:d}.bmp\".format(i+1)\n",
    "    cv2.imwrite(os.path.join(path,filename), img)\n",
    "    i = i+1"
   ]
  },
  {
   "cell_type": "code",
   "execution_count": null,
   "metadata": {},
   "outputs": [],
   "source": [
    "path = \"Data 100/Augmentation/Region/\"\n",
    "dirs = os.listdir(path)\n",
    "i = 0\n",
    "for file in glob.glob('Data 100/Augmentation/Region/*', recursive=False):\n",
    "    img = cv2.imread(file)\n",
    "    img = cv2.flip(img,1)\n",
    "    filename = \"h {:d}.jpg\".format(i+1)\n",
    "    cv2.imwrite(os.path.join(path,filename), img)\n",
    "    i = i+1"
   ]
  },
  {
   "cell_type": "code",
   "execution_count": null,
   "metadata": {},
   "outputs": [],
   "source": [
    "path = \"Data 100/Augmentation/Boundary/\"\n",
    "dirs = os.listdir(path)\n",
    "i = 0\n",
    "for file in glob.glob('Data 100/Augmentation/Boundary/*', recursive=False):\n",
    "    img = cv2.imread(file)\n",
    "    img = cv2.flip(img,1)\n",
    "    filename = \"h {:d}.jpg\".format(i+1)\n",
    "    cv2.imwrite(os.path.join(path,filename), img)\n",
    "    i = i+1"
   ]
  }
 ],
 "metadata": {
  "kernelspec": {
   "display_name": "Python 3",
   "language": "python",
   "name": "python3"
  },
  "language_info": {
   "codemirror_mode": {
    "name": "ipython",
    "version": 3
   },
   "file_extension": ".py",
   "mimetype": "text/x-python",
   "name": "python",
   "nbconvert_exporter": "python",
   "pygments_lexer": "ipython3",
   "version": "3.6.5"
  }
 },
 "nbformat": 4,
 "nbformat_minor": 2
}
