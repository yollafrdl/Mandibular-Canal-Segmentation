{
 "cells": [
  {
   "cell_type": "code",
   "execution_count": 1,
   "metadata": {},
   "outputs": [],
   "source": [
    "import pydicom as dicom\n",
    "import numpy as np\n",
    "import matplotlib.pyplot as plt\n",
    "import os\n",
    "import glob\n",
    "import cv2\n",
    "from PIL import Image"
   ]
  },
  {
   "cell_type": "code",
   "execution_count": 9,
   "metadata": {},
   "outputs": [
    {
     "name": "stdout",
     "output_type": "stream",
     "text": [
      "file count: 200\n"
     ]
    }
   ],
   "source": [
    "file = []\n",
    "for fname in glob.glob('Data/13/CBCT/*', recursive=False):\n",
    "    data = dicom.dcmread(fname)\n",
    "    file.append(data)\n",
    "\n",
    "print(\"file count: {}\".format(len(file)))"
   ]
  },
  {
   "cell_type": "code",
   "execution_count": 10,
   "metadata": {},
   "outputs": [],
   "source": [
    "ps = file[0].PixelSpacing\n",
    "ss = file[0].SliceThickness\n",
    "ax_aspect = ps[1]/ps[0]\n",
    "sag_aspect = ps[1]/ss\n",
    "cor_aspect = ss/ps[0]"
   ]
  },
  {
   "cell_type": "code",
   "execution_count": 11,
   "metadata": {},
   "outputs": [],
   "source": [
    "# create 3D array\n",
    "img_shape = list(file[0].pixel_array.shape)\n",
    "img_shape.append(len(file))\n",
    "img3d = np.zeros(img_shape)\n",
    "\n",
    "for i, s in enumerate(file):\n",
    "    image_2d = s.pixel_array.astype(float)\n",
    "    image_2d_scaled = (np.maximum(image_2d,0) / image_2d.max()) * 255.0\n",
    "    image_2d_scaled = np.uint8(image_2d_scaled)\n",
    "    img3d[:, :, i] = image_2d_scaled\n"
   ]
  },
  {
   "cell_type": "code",
   "execution_count": 12,
   "metadata": {},
   "outputs": [],
   "source": [
    "path = 'Data/13/'"
   ]
  },
  {
   "cell_type": "code",
   "execution_count": 13,
   "metadata": {},
   "outputs": [],
   "source": [
    "path_ax = os.path.join(path, 'Axial')\n",
    "if not os.path.exists(path_ax):\n",
    "        os.makedirs(path_ax)\n",
    "        \n",
    "for i in range(len(img3d[0][0])):\n",
    "    img = img3d[:, :, i]\n",
    "    filename = \"{:d}.bmp\".format(i+1)\n",
    "    cv2.imwrite(os.path.join(path_ax, filename), img)"
   ]
  },
  {
   "cell_type": "code",
   "execution_count": 14,
   "metadata": {},
   "outputs": [],
   "source": [
    "path_sag = os.path.join(path, 'Sagital')\n",
    "if not os.path.exists(path_sag):\n",
    "        os.makedirs(path_sag)\n",
    "        \n",
    "for i in range(len(img3d[0])):\n",
    "    img = img3d[:, i, :].T\n",
    "    filename = \"{:d}.bmp\".format(i+1)\n",
    "    cv2.imwrite(os.path.join(path_sag, filename), img)"
   ]
  },
  {
   "cell_type": "code",
   "execution_count": 15,
   "metadata": {},
   "outputs": [],
   "source": [
    "path_cor = os.path.join(path, 'Coronal')\n",
    "if not os.path.exists(path_cor):\n",
    "        os.makedirs(path_cor)\n",
    "        \n",
    "for i in range(len(img3d)):\n",
    "    img = img3d[i, :, :].T\n",
    "    filename = \"{:d}.bmp\".format(i+1)\n",
    "    cv2.imwrite(os.path.join(path_cor, filename), img)"
   ]
  }
 ],
 "metadata": {
  "kernelspec": {
   "display_name": "Python 3",
   "language": "python",
   "name": "python3"
  },
  "language_info": {
   "codemirror_mode": {
    "name": "ipython",
    "version": 3
   },
   "file_extension": ".py",
   "mimetype": "text/x-python",
   "name": "python",
   "nbconvert_exporter": "python",
   "pygments_lexer": "ipython3",
   "version": "3.6.5"
  }
 },
 "nbformat": 4,
 "nbformat_minor": 2
}
