{
  "nbformat": 4,
  "nbformat_minor": 0,
  "metadata": {
    "colab": {
      "name": "Testing RFCN + DAL.ipynb",
      "provenance": [],
      "collapsed_sections": []
    },
    "kernelspec": {
      "name": "python3",
      "display_name": "Python 3"
    }
  },
  "cells": [
    {
      "cell_type": "code",
      "metadata": {
        "id": "d1-9J9onhOH2"
      },
      "source": [
        "from keras.models import *\n",
        "from keras.layers import *\n",
        "from keras import backend as K\n",
        "import numpy as np\n",
        "from matplotlib import pyplot as plt\n",
        "import cv2\n",
        "import imghdr\n",
        "import tensorflow as tf\n",
        "from sklearn.metrics import confusion_matrix, classification_report, accuracy_score"
      ],
      "execution_count": null,
      "outputs": []
    },
    {
      "cell_type": "code",
      "metadata": {
        "id": "r_J_UWdyxfA3"
      },
      "source": [
        "from google.colab import drive\n",
        "drive.mount('/content/drive')"
      ],
      "execution_count": null,
      "outputs": []
    },
    {
      "cell_type": "code",
      "metadata": {
        "id": "Y0sfXCfWw__5"
      },
      "source": [
        "def dice_coef(y_true, y_pred):\n",
        "  y_true_f = K.flatten(y_true)\n",
        "  y_pred_f = K.flatten(y_pred)\n",
        "  intersection = K.sum(y_true_f * y_pred_f)\n",
        "  return (2. * intersection + K.epsilon()) / (K.sum(y_true_f) + K.sum(y_pred_f) + K.epsilon())"
      ],
      "execution_count": null,
      "outputs": []
    },
    {
      "cell_type": "code",
      "metadata": {
        "id": "JBqN4h8heizB"
      },
      "source": [
        "def dice_coef_loss(y_true, y_pred):\n",
        "    return 1.0 - dice_coef(y_true, y_pred)"
      ],
      "execution_count": null,
      "outputs": []
    },
    {
      "cell_type": "code",
      "metadata": {
        "id": "E6F5GhG4sL-1"
      },
      "source": [
        "def recall_m(y_true, y_pred):\n",
        "    true_positives = K.sum(K.round(K.clip(y_true * y_pred, 0, 1)))\n",
        "    possible_positives = K.sum(K.round(K.clip(y_true, 0, 1)))\n",
        "    recall = true_positives / (possible_positives + K.epsilon())\n",
        "    return recall"
      ],
      "execution_count": null,
      "outputs": []
    },
    {
      "cell_type": "code",
      "metadata": {
        "id": "5V0FErQutCWG"
      },
      "source": [
        "def precision_m(y_true, y_pred):\n",
        "    true_positives = K.sum(K.round(K.clip(y_true * y_pred, 0, 1)))\n",
        "    predicted_positives = K.sum(K.round(K.clip(y_pred, 0, 1)))\n",
        "    precision = true_positives / (predicted_positives + K.epsilon())\n",
        "    return precision"
      ],
      "execution_count": null,
      "outputs": []
    },
    {
      "cell_type": "code",
      "metadata": {
        "id": "FeIZ22DStMDN"
      },
      "source": [
        "def f1_m(y_true, y_pred):\n",
        "    precision = precision_m(y_true, y_pred)\n",
        "    recall = recall_m(y_true, y_pred)\n",
        "    return 2*((precision*recall)/(precision+recall+K.epsilon()))"
      ],
      "execution_count": null,
      "outputs": []
    },
    {
      "cell_type": "code",
      "metadata": {
        "id": "DI7SsgridzRE"
      },
      "source": [
        "def binary_focal_loss(gamma, alpha):\n",
        "    \"\"\"\n",
        "    Binary form of focal loss.\n",
        "         Focal loss for binary classification problems\n",
        "    \n",
        "    focal_loss(p_t) = -alpha_t * (1 - p_t)**gamma * log(p_t)\n",
        "        where p = sigmoid(x), p_t = p or 1 - p depending on if the label is 1 or 0, respectively.\n",
        "    References:\n",
        "        https://arxiv.org/pdf/1708.02002.pdf\n",
        "    Usage:\n",
        "     model.compile(loss=[binary_focal_loss(alpha=.25, gamma=2)], metrics=[\"accuracy\"], optimizer=adam)\n",
        "    \"\"\"\n",
        "    alpha = tf.constant(alpha, dtype=tf.float32)\n",
        "    gamma = tf.constant(gamma, dtype=tf.float32)\n",
        "\n",
        "    def binary_focal_loss_fixed(y_true, y_pred):\n",
        "        \"\"\"\n",
        "        y_true shape need be (None,1)\n",
        "        y_pred need be compute after sigmoid\n",
        "        \"\"\"\n",
        "        y_true = tf.cast(y_true, tf.float32)\n",
        "        alpha_t = y_true*alpha + (K.ones_like(y_true)-y_true)*(1-alpha)\n",
        "    \n",
        "        p_t = y_true*y_pred + (K.ones_like(y_true)-y_true)*(K.ones_like(y_true)-y_pred) + K.epsilon()\n",
        "        focal_loss = - alpha_t * K.pow((K.ones_like(y_true)-p_t),gamma) * K.log(p_t)\n",
        "        return K.mean(focal_loss)\n",
        "    return binary_focal_loss_fixed"
      ],
      "execution_count": null,
      "outputs": []
    },
    {
      "cell_type": "code",
      "metadata": {
        "id": "LG7BWlv3mr9C"
      },
      "source": [
        "image_test = np.load('/content/drive/MyDrive/Gigi/Output/300/300_dengan_tanpa_kanal_test_image.npy')\n",
        "region_test = np.load('/content/drive/MyDrive/Gigi/Output/300/300_dengan_tanpa_kanal_test_region.npy')\n",
        "boundary_test = np.load('/content/drive/MyDrive/Gigi/Output/300/300_dengan_tanpa_kanal_test_boundary.npy')"
      ],
      "execution_count": null,
      "outputs": []
    },
    {
      "cell_type": "code",
      "metadata": {
        "id": "oT3h77nugoC2"
      },
      "source": [
        "x_test = np.expand_dims(image_test, axis=3).astype('float32')\n",
        "r_test = np.expand_dims(region_test, axis=3).astype('float32')\n",
        "b_test = np.expand_dims(boundary_test, axis=3).astype('float32')"
      ],
      "execution_count": null,
      "outputs": []
    },
    {
      "cell_type": "code",
      "metadata": {
        "id": "BkCJh0XQmNHS"
      },
      "source": [
        "model = load_model(\"/content/drive/MyDrive/Gigi/Output/Weight/Percobaan untuk jurnal/300 RFNC + DAL (Region 0.2, Boundary 0.8).h5\", \n",
        "                   custom_objects={'dice_coef': dice_coef, 'binary_focal_loss_fixed' : binary_focal_loss(gamma = 2., alpha = 0.25)})\n",
        "# model.summary()"
      ],
      "execution_count": null,
      "outputs": []
    },
    {
      "cell_type": "code",
      "metadata": {
        "id": "s4gKfnCQg4x9"
      },
      "source": [
        "result = model.predict(x_test1)"
      ],
      "execution_count": null,
      "outputs": []
    },
    {
      "cell_type": "code",
      "metadata": {
        "id": "Z5l8ZO7oN53A"
      },
      "source": [
        "gabung = []\n",
        "for i in range(len(r_test)):\n",
        "  g = result[0][i] + result[1][i]\n",
        "  # g = asarray(g)\n",
        "  g[g < 1] = 0\n",
        "  g[g >= 1] = 1\n",
        "  gabung.append(g)"
      ],
      "execution_count": null,
      "outputs": []
    },
    {
      "cell_type": "code",
      "metadata": {
        "id": "e80nfsxvKnpm"
      },
      "source": [
        "gabung2 = []\n",
        "for i in range(len(r_test)):\n",
        "  g = result[0][i] + result[1][i]\n",
        "  gabung2.append(g)"
      ],
      "execution_count": null,
      "outputs": []
    },
    {
      "cell_type": "code",
      "metadata": {
        "id": "XF6DXNkkhFdM"
      },
      "source": [
        "dice_r = dice_coef(result[0], r_test)\n",
        "precision_r = precision_m(result[0], r_test)\n",
        "recall_r = recall_m(result[0], r_test)\n",
        "\n",
        "dice_b = dice_coef(result[1], b_test)\n",
        "precision_b = precision_m(result[1], b_test)\n",
        "recall_b = recall_m(result[1], b_test)\n",
        "\n",
        "dice_g = dice_coef(gabung, r_test)\n",
        "precision_g = precision_m(gabung, r_test)\n",
        "recall_g = recall_m(gabung, r_test)\n",
        "\n",
        "dice_g2 = dice_coef(gabung2, r_test)\n",
        "precision_g2 = precision_m(gabung2, r_test)\n",
        "recall_g2 = recall_m(gabung2, r_test)"
      ],
      "execution_count": null,
      "outputs": []
    },
    {
      "cell_type": "code",
      "metadata": {
        "colab": {
          "base_uri": "https://localhost:8080/"
        },
        "id": "Im5ZPts5hz0F",
        "outputId": "13952afb-4e9d-485b-9666-ea6e36c63feb"
      },
      "source": [
        "with tf.compat.v1.Session() as sess:\n",
        "  print('----Region----\\nDice Coef Score\\t: ' +str(dice_r.numpy())+ '\\nPrecision\\t: ' +str(precision_r.numpy())+ '\\nRecall\\t\\t: '+str(recall_r.numpy()))\n",
        "  print('\\n----Boundary----\\nDice Coef Score\\t: ' +str(dice_b.numpy())+ '\\nPrecision\\t: ' +str(precision_b.numpy())+ '\\nRecall\\t\\t: '+str(recall_b.numpy()))\n",
        "  print('\\n----Gabungan----\\nDice Coef Score\\t: ' +str(dice_g.numpy())+ '\\nPrecision\\t: ' +str(precision_g.numpy())+ '\\nRecall\\t\\t: '+str(recall_g.numpy()))\n",
        "  print('\\n----Gabungan 2----\\nDice Coef Score\\t: ' +str(dice_g2.numpy())+ '\\nPrecision\\t: ' +str(precision_g2.numpy())+ '\\nRecall\\t\\t: '+str(recall_g2.numpy()))"
      ],
      "execution_count": null,
      "outputs": [
        {
          "output_type": "stream",
          "text": [
            "----Region----\n",
            "Dice Coef Score\t: 0.804245\n",
            "Precision\t: 0.7602102\n",
            "Recall\t\t: 0.92323124\n",
            "\n",
            "----Boundary----\n",
            "Dice Coef Score\t: 0.6283851\n",
            "Precision\t: 0.57717866\n",
            "Recall\t\t: 0.76632214\n",
            "\n",
            "----Gabungan----\n",
            "Dice Coef Score\t: 0.6368675\n",
            "Precision\t: 0.53483486\n",
            "Recall\t\t: 0.7870084\n",
            "\n",
            "----Gabungan 2----\n",
            "Dice Coef Score\t: 0.8689127\n",
            "Precision\t: 0.85495496\n",
            "Recall\t\t: 0.7380428\n"
          ],
          "name": "stdout"
        }
      ]
    },
    {
      "cell_type": "code",
      "metadata": {
        "colab": {
          "base_uri": "https://localhost:8080/",
          "height": 866
        },
        "id": "wy3uKRJAyHRV",
        "outputId": "aa3fea63-369d-4938-f4c3-9df78fc0ac31"
      },
      "source": [
        "fig = plt.figure(figsize=(15, 15))\n",
        "for i in range(len(gabung2)):\n",
        "  plt.subplot(10,6,i+1),plt.imshow(gabung2[i].reshape(192,256),cmap = 'gray')\n",
        "  plt.title(i+1), plt.xticks([]), plt.yticks([])\n",
        "plt.show()"
      ],
      "execution_count": null,
      "outputs": [
        {
          "output_type": "display_data",
          "data": {
            "image/png": "[encoded data removed]",
            "text/plain": [
              "<Figure size 1080x1080 with 60 Axes>"
            ]
          },
          "metadata": {
            "tags": []
          }
        }
      ]
    },
    {
      "cell_type": "code",
      "metadata": {
        "id": "zIZy1lwV94LI"
      },
      "source": [
        "def show(img):\n",
        "    img2 = img[:,:,::-1]\n",
        "    plt.imshow(img2)"
      ],
      "execution_count": null,
      "outputs": []
    },
    {
      "cell_type": "code",
      "metadata": {
        "id": "DuV-XN4h_ygL"
      },
      "source": [
        "def draw_result(image, region_gt, result):\n",
        "  img = cv2.normalize(image, None, 0, 255, cv2.NORM_MINMAX, cv2.CV_8U)\n",
        "  mask = cv2.normalize(region_gt, None, 0, 255, cv2.NORM_MINMAX, cv2.CV_8U)\n",
        "  result = cv2.normalize(result.reshape(192,256), None, 0, 255, cv2.NORM_MINMAX, cv2.CV_8U)\n",
        "\n",
        "  ret,th = cv2.threshold(result,0,255,cv2.THRESH_BINARY+cv2.THRESH_OTSU)\n",
        "  ret2,th2 = cv2.threshold(mask,0,255,cv2.THRESH_BINARY+cv2.THRESH_OTSU)\n",
        "\n",
        "  contours = []\n",
        "  gabungan_contours,_ = cv2.findContours(th, cv2.RETR_TREE, cv2.CHAIN_APPROX_SIMPLE)\n",
        "  mask_contours,_ = cv2.findContours(th2, cv2.RETR_TREE, cv2.CHAIN_APPROX_SIMPLE)\n",
        "  contours.append(mask_contours)\n",
        "  contours.append(gabungan_contours)\n",
        "\n",
        "  main = cv2.cvtColor(img,cv2.COLOR_GRAY2BGR)\n",
        "  for i,c in enumerate(contours):\n",
        "    if i == 0:\n",
        "      color = (0,255,255)\n",
        "    else:\n",
        "      color = (0,0,255) #mask\n",
        "\n",
        "    cv2.drawContours(main,c,-1,color,-1)\n",
        "  return main"
      ],
      "execution_count": null,
      "outputs": []
    },
    {
      "cell_type": "code",
      "metadata": {
        "id": "2LyQn4E3PVm5"
      },
      "source": [
        "fig = plt.figure(figsize=(10, 10))\n",
        "show(draw_result(image_test[7], region_test[7], gabung2[7]))\n",
        "plt.show()"
      ],
      "execution_count": null,
      "outputs": []
    }
  ]
}
